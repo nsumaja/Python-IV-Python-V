{
 "cells": [
  {
   "cell_type": "markdown",
   "metadata": {},
   "source": [
    "## Surface Area of Cone"
   ]
  },
  {
   "cell_type": "code",
   "execution_count": 3,
   "metadata": {},
   "outputs": [],
   "source": [
    "import math\n",
    "class Cone():\n",
    "    \n",
    "    def calculate_area():\n",
    "        Pi = 3.14\n",
    "        r=float(input('Please Enter the Radius of the Cone: '))\n",
    "        h=float(input('Please Enter the Height of the Cone: '))\n",
    "        SL = math.sqrt(((h*h) + (r*r)))\n",
    "        Area = (Pi*r)*(r+SL)\n",
    "       \n",
    "        return Area"
   ]
  },
  {
   "cell_type": "code",
   "execution_count": 4,
   "metadata": {},
   "outputs": [
    {
     "name": "stdout",
     "output_type": "stream",
     "text": [
      "Please Enter the Radius of the Cone: 4\n",
      "Please Enter the Height of the Cone: 5\n"
     ]
    },
    {
     "data": {
      "text/plain": [
       "130.66324042215658"
      ]
     },
     "execution_count": 4,
     "metadata": {},
     "output_type": "execute_result"
    }
   ],
   "source": [
    "Cone.calculate_area()"
   ]
  },
  {
   "cell_type": "markdown",
   "metadata": {},
   "source": [
    "## MathOperation implements pow(x,n) function"
   ]
  },
  {
   "cell_type": "code",
   "execution_count": 5,
   "metadata": {},
   "outputs": [],
   "source": [
    "import math\n",
    "class MathOperation():\n",
    "    def pow(self,x,n):\n",
    "        r = (x**n)\n",
    "        return r"
   ]
  },
  {
   "cell_type": "code",
   "execution_count": 6,
   "metadata": {},
   "outputs": [
    {
     "name": "stdout",
     "output_type": "stream",
     "text": [
      "8\n"
     ]
    }
   ],
   "source": [
    "M = MathOperation()\n",
    "print(M.pow(2,3))"
   ]
  },
  {
   "cell_type": "code",
   "execution_count": 7,
   "metadata": {},
   "outputs": [
    {
     "name": "stdout",
     "output_type": "stream",
     "text": [
      "0.008\n"
     ]
    }
   ],
   "source": [
    "print(M.pow(5,-3))"
   ]
  },
  {
   "cell_type": "code",
   "execution_count": 8,
   "metadata": {},
   "outputs": [
    {
     "name": "stdout",
     "output_type": "stream",
     "text": [
      "-32\n"
     ]
    }
   ],
   "source": [
    "print(M.pow(-2,5))"
   ]
  },
  {
   "cell_type": "code",
   "execution_count": 9,
   "metadata": {},
   "outputs": [
    {
     "name": "stdout",
     "output_type": "stream",
     "text": [
      "-0.008\n"
     ]
    }
   ],
   "source": [
    "print(M.pow(-5,-3))"
   ]
  },
  {
   "cell_type": "code",
   "execution_count": 10,
   "metadata": {},
   "outputs": [
    {
     "name": "stdout",
     "output_type": "stream",
     "text": [
      "1\n"
     ]
    }
   ],
   "source": [
    "print(M.pow(20000,0))"
   ]
  },
  {
   "cell_type": "markdown",
   "metadata": {},
   "source": [
    "## issubclass & isinstance"
   ]
  },
  {
   "cell_type": "code",
   "execution_count": 3,
   "metadata": {},
   "outputs": [
    {
     "name": "stdout",
     "output_type": "stream",
     "text": [
      "True\n",
      "False\n",
      "False\n",
      "True\n"
     ]
    }
   ],
   "source": [
    "class Base(object):\n",
    "    pass\n",
    "\n",
    "class Derived(Base):\n",
    "    pass\n",
    "\n",
    "print(issubclass(Derived, Base))\n",
    "print(issubclass(Base,Derived))\n",
    "\n",
    "print(isinstance(Base,Derived))\n",
    "print(isinstance(Derived(),Base))"
   ]
  },
  {
   "cell_type": "markdown",
   "metadata": {},
   "source": [
    "## Base Class with two methods"
   ]
  },
  {
   "cell_type": "code",
   "execution_count": 4,
   "metadata": {},
   "outputs": [
    {
     "name": "stdout",
     "output_type": "stream",
     "text": [
      "Sumaja Nayini\n"
     ]
    }
   ],
   "source": [
    "class Person:\n",
    "   def __init__(self, first,last):\n",
    "        self._first = first\n",
    "        self._last = last\n",
    "     \n",
    "   def __str__(self):\n",
    "      return str(self._first) + ' ' + str(self._last)\n",
    "\n",
    "class Employee(Person):\n",
    "   \n",
    "   def __str__(self):\n",
    "    Name = super().__str__()\n",
    "      \n",
    "    return Name\n",
    "\n",
    "\n",
    "E1 = Employee('Sumaja','Nayini')\n",
    "print(E1)\n"
   ]
  },
  {
   "cell_type": "code",
   "execution_count": null,
   "metadata": {},
   "outputs": [],
   "source": []
  }
 ],
 "metadata": {
  "kernelspec": {
   "display_name": "Python 3",
   "language": "python",
   "name": "python3"
  },
  "language_info": {
   "codemirror_mode": {
    "name": "ipython",
    "version": 3
   },
   "file_extension": ".py",
   "mimetype": "text/x-python",
   "name": "python",
   "nbconvert_exporter": "python",
   "pygments_lexer": "ipython3",
   "version": "3.7.0"
  }
 },
 "nbformat": 4,
 "nbformat_minor": 2
}
